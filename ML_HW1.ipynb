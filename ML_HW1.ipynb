{
 "cells": [
  {
   "cell_type": "markdown",
   "id": "2c8ab292-266f-4722-848f-1109966685d0",
   "metadata": {},
   "source": [
    "Vincent Earl Andrews\n",
    "<h3 align=\"center\">Machine Learning: Homework 1</h3>\n"
   ]
  },
  {
   "cell_type": "code",
   "execution_count": 26,
   "id": "80946196",
   "metadata": {},
   "outputs": [],
   "source": [
    "import pandas as pd\n",
    "import numpy as np\n",
    "from sklearn.model_selection import train_test_split\n",
    "from sklearn.metrics import mean_absolute_error\n",
    "from sklearn import preprocessing\n",
    "from scipy.special import jv  # jv = bessel functions\n",
    "import matplotlib.pyplot as plt"
   ]
  },
  {
   "cell_type": "markdown",
   "id": "41af1bbb",
   "metadata": {},
   "source": [
    "\n",
    "1. Ridge regression is a modified version of linear regression that penelizes the coefficients for being large. It accomplishes this by adding a so-called $L^2$ penalty term to the loss function (e.g. mean squared error): $L(\\theta)=\\frac{1}{n}\\sum\\limits_{i=1}^n \\left(\\hat{f}(x_i)-y_i\\right)^2 + \\lambda\\sum\\limits_{i=1}^d \\theta_i^2$"
   ]
  },
  {
   "cell_type": "markdown",
   "id": "34aebdd6",
   "metadata": {},
   "source": [
    "a) Write each part of $L(\\theta)$ in matrix-vector form where $\\hat{f}$ is a LBF expansion regression model. Define each matrix and vector separately by writing their elements with subscripts, and state their dimensions. cdv dots"
   ]
  },
  {
   "cell_type": "markdown",
   "id": "444c0915",
   "metadata": {},
   "source": [
    "We can rewrite the first term as $ ||X\\theta - y||^{2} = (X\\theta - y)^{T}(X\\theta - y)$ and the second term as $ \\lambda ||\\theta||^{2} = \\lambda \\theta^T \\theta $, where $\\lambda$ is a hyperparameter, $ \\theta$ is a matrix, $\\theta$ and y are vectors, and 'T\" indicate sthe transpose of a matrix. <br>\n",
    "\n",
    "If we take a set of data, we can load the data into a matrix X with a column of 1's added for convenience when multiplying the matrices. We exclude the result that we want to predict and place this data in a column vector, y. Here, $\\theta$ is a column vector we need to solve for in order to minimize the loss function, $L(\\theta)$.\n",
    "\n",
    "Writing out these matrices and vectors with their  corresponding elements:\n",
    "\n",
    "\\begin{align*}\n",
    "X &= \\begin{bmatrix}\n",
    "    1 & x_{11} & x_{12} & \\cdots & x_{1d}       \\\\\n",
    "    1 & x_{21} & x_{22} & \\cdots & x_{2d}       \\\\\n",
    "    \\vdots & \\vdots & \\vdots & \\ddots  & \\vdots \\\\\n",
    "    1 & x_{n1} & x_{n2} & \\cdots & x_{nd} \n",
    "    \\end{bmatrix}  &    \n",
    "y &= \\begin{bmatrix}\n",
    "    y_{1} \\\\\n",
    "    y_{2} \\\\\n",
    "    y_{3} \\\\\n",
    "    \\vdots \\\\\n",
    "    y_{n}\n",
    "\\end{bmatrix} &\n",
    "\\theta &= \\begin{bmatrix}\n",
    "    \\theta_{1} \\\\\n",
    "    \\theta_{2} \\\\\n",
    "    \\theta_{3} \\\\\n",
    "    \\vdots \\\\\n",
    "    \\theta_{n}\n",
    "\\end{bmatrix}\n",
    "\\end{align*}\n",
    "Matrix X has a shape of (n , d), vector y has a shape of n, and vector $\\theta$ has a shape of d. Therefore, the order of multiplying maters in order to make sure our final result is a scalar for the loss function. \n"
   ]
  },
  {
   "cell_type": "markdown",
   "id": "0730bdd2",
   "metadata": {},
   "source": [
    "Writing out the loss function in terms of matrices and vectors, we get:\n",
    "\n",
    "\\begin{align}\n",
    "    L(\\theta) = ((X \\theta)^{T} - y^{T})(X \\theta - y)) + \\lambda \\theta^{T} \\theta \\\\\n",
    "\\end{align}\n",
    "\n",
    "\\begin{align}\n",
    "       L(\\theta) = (X\\theta)^{T} X \\theta - (X\\theta)^{T} y - y^{T} X\\theta + y^{T}y + \\lambda \\theta^{T} \\theta\n",
    "\\end{align}\n",
    "\n",
    "y and $\\theta$ both have the same shape of a column of length n; therefore, we can rewrite $(X\\theta)^{T}y = y^{T}X\\theta$ and substitute this into the previous expression:\n",
    "\n",
    "\\begin{align}\n",
    "       L(\\theta) = (X\\theta)^{T} X \\theta - (X\\theta)^{T}y - (X\\theta)^{T}y + y^{T}y + \\lambda \\theta^{T} \\theta \\\\\n",
    "       L(\\theta) = (X\\theta)^{T} X \\theta - 2(X\\theta)^{T}y+ y^{T}y + \\lambda \\theta^{T} \\theta \\\\\n",
    "\\end{align}\n",
    "\n",
    "From the property $ (AB)^{T} = B^{T}A^{T}$, we can simplify the expression:\n",
    "\n",
    "\n",
    "<div style=\"border: 2px solid purple; padding: 5px; width: 50%; margin: 0 auto; \">\n",
    "\\begin{align}\n",
    "       L(\\theta) = \\theta^{T}X^{T} X \\theta - 2(X\\theta)^{T}y + y^{T}y + \\lambda \\theta^{T} \\theta\n",
    "\\end{align}\n",
    "</div>\n",
    "\n",
    "Where matrix X has a shape of (n,d), vector $\\theta$ is a column vector of shape n, and y is a column vector of shape d. "
   ]
  },
  {
   "cell_type": "markdown",
   "id": "2c74716d",
   "metadata": {},
   "source": [
    "\n",
    "b) Solve the following optimization problem by hand for the loss function $L$ above $\\min\\limits_{\\theta\\in\\mathbb{R}^{d+1}} L(\\theta)$"
   ]
  },
  {
   "cell_type": "markdown",
   "id": "225a4910",
   "metadata": {},
   "source": [
    "Using the loss function found in Part a, we can minimize the loss function by taking the gradient and setting the function equal to zero. Solving for $\\theta$ here will give us value of theta that optimizes the loss function (minimize loss).\n",
    "\n",
    "First, rewriting the $\\theta$ vectors to make them easier to take derivatives for:\n",
    "\n",
    "\\begin{align}\n",
    "    L(\\theta) = X^{T}X||\\theta||^{2} - 2(X\\theta)^{T}y + y^{T}y + \\lambda ||\\theta||^{2}\n",
    "\\end{align}\n",
    "\n",
    "Taking the derivatives with respect to $\\theta$ in order to minimize the function for the smallest $\\theta$ vector possible.\n",
    "\\begin{align}\n",
    "    \\nabla L(\\theta) = 2X^{T}X\\theta - 2X^{T}y + 2\\lambda \\theta \n",
    "\\end{align}\n",
    "\n",
    "Setting equal to zero to solve for $\\theta$\n",
    "\\begin{align}\n",
    "    X^{T}X\\theta - X^{T}y + \\lambda \\theta = 0 \\\\\n",
    "    X^{T}y = X^{T}X\\theta + \\lambda \\theta \\\\\n",
    "    X^{T}y = \\theta \\left(X^{T}X + \\lambda\\right) \\\\\n",
    "\\end{align}\n",
    "\n",
    "Multiplying by the inverse of $\\left(X^{T}X + \\lambda\\right)$ to cancel the terms on the rightside and solve for $\\theta$. We also need to multiply $\\lambda$ by the identity matrix in order to make sure the dimensions work out:\n",
    "\\begin{align}\n",
    "     \\left(X^{T}X + \\lambda I\\right)^{-1} X^{T}y = \\theta \\left(X^{T}X + \\lambda\\right)\\left(X^{T}X + \\lambda I\\right)^{-1}\n",
    "\\end{align}\n",
    "\n",
    "Therefore, we get $\\theta$ equal to the following expression where $\\theta$ is a column vector of length n:\n",
    "<div style=\"border: 2px solid purple; padding: 5px; width: 50%; margin: 0 auto; \">\n",
    "\\begin{align}\n",
    "    \\theta = \\left(X^{T}X + \\lambda I\\right)^{-1} X^{T}y\n",
    "\\end{align}\n",
    "</div>"
   ]
  },
  {
   "cell_type": "markdown",
   "id": "d6d3f331",
   "metadata": {},
   "source": [
    "c) Write a Python class for this ridge LBF expansion regression model with a `fit` function applying the formula from part (b) to compute the parameters $\\theta$ and a `predict` function to make predictions for input data after the model has been fit.\n",
    "\n",
    "This class takes some training data (x, y) and performs a linear basis function expansion on the data. In this case, Bessel functions are used as an example to transfrom X into a new matrix $X_h$. The class then fits the data and predicts the resulting y data for the original dataset. "
   ]
  },
  {
   "cell_type": "code",
   "execution_count": 5,
   "id": "23dc8c66",
   "metadata": {},
   "outputs": [
    {
     "name": "stdout",
     "output_type": "stream",
     "text": [
      "\n",
      "Transformed Matrix Xh:\n",
      "[[ 1.32015176  1.15344962  0.56509826]\n",
      " [-0.09906499 -0.45861079 -0.36891181]\n",
      " [-0.00602077  0.29329543  0.29982552]]\n",
      "the absolute error of the Ridge Regression model is =  2.761168749602515\n"
     ]
    }
   ],
   "source": [
    "import numpy as np\n",
    "from scipy.special import jv  # Bessel function from SciPy\n",
    "\n",
    "def LBF_Bessel(X, orders):\n",
    "    # Ensure that X is a numpy array\n",
    "    X = np.array(X)\n",
    "\n",
    "    Xh = np.zeros_like(X, dtype=float)\n",
    "\n",
    "    # Perform linear basis expansion using Bessel functions\n",
    "    for o in orders:\n",
    "        basis_function = jv(o, X)  # Bessel function of order o\n",
    "        Xh += basis_function\n",
    "    return Xh\n",
    "\n",
    "class RidgeRegression:\n",
    "        \n",
    "    # fit the model to the data\n",
    "    def fit(self, X, y, lam):\n",
    "        # save the training data\n",
    "        self.data = np.hstack((np.ones([X.shape[0],1]), X))\n",
    "        \n",
    "        # save the training labels\n",
    "        self.outputs = y\n",
    "        \n",
    "        # find the beta values that minimize the sum of squared errors\n",
    "        X = self.data\n",
    "        self.theta = np.linalg.inv(X.T @ X + lam * np.identity(4)) @ X.T @ y\n",
    "                \n",
    "    # predict the output from input (testing) data\n",
    "    def predict(self, X):\n",
    "        \n",
    "        # append a column of ones at the beginning of X\n",
    "        X = np.hstack((np.ones([X.shape[0],1]), X))\n",
    "        \n",
    "        # return the outputs\n",
    "        return X @ self.theta\n",
    "    \n",
    "# Example usage:\n",
    "# Assuming X is a 2D matrix, and you want to use Bessel functions of orders 0, 1, and 2\n",
    "X = np.array([[1, 2, 3],\n",
    "              [4, 5, 6],\n",
    "              [7, 8, 9]])\n",
    "y = np.array([[3],\n",
    "              [5],\n",
    "              [7]])\n",
    "orders = [0, 1, 2]\n",
    "\n",
    "# get transformation\n",
    "X_h = LBF_Bessel(X, orders)\n",
    "print(\"\\nTransformed Matrix Xh:\")\n",
    "print(X_h)\n",
    "\n",
    "# turn into array\n",
    "X_h = X_h.astype(float)\n",
    "X_h = preprocessing.normalize(X_h)\n",
    "\n",
    "# Split data into training, validation, and test set\n",
    "xtrain, xi, ytrain, yi = train_test_split(X_h, y, test_size = 0.4, random_state = 69)\n",
    "xvald, xtest, yvald, ytest = train_test_split(xi, yi, test_size = 0.5, random_state = 69)  \n",
    "\n",
    "# perform Ridge on training dataset\n",
    "model = RidgeRegression()\n",
    "model.fit(xtrain, ytrain, 1e-3)  # fit function \n",
    "results = model.predict(xvald) # predict function\n",
    "\n",
    "# calculate mean absolute error of prices\n",
    "MAE = mean_absolute_error(yvald, results)\n",
    "print(\"the absolute error of the Ridge Regression model is = \", MAE)"
   ]
  },
  {
   "cell_type": "markdown",
   "id": "f0382f3a",
   "metadata": {},
   "source": [
    "2. Use the details about houses in a real estate dataset and attempt to predict the list price for the houses. Use the [Mount Pleasant Real Estate dataset](https://www.hawkeslearning.com/Statistics/dis/datasets.html)."
   ]
  },
  {
   "cell_type": "markdown",
   "id": "e17e748e",
   "metadata": {},
   "source": [
    "a) Read the dataset into Python and preprocess data excluding the \"Misc Exterior\" and \"Amenities\" columns into an appropriate data matrix for regression analysis. Randomly split the data into a training set, validation set, and test set at 60\\%/20\\%/20\\%."
   ]
  },
  {
   "cell_type": "code",
   "execution_count": 6,
   "id": "10dc0269",
   "metadata": {},
   "outputs": [],
   "source": [
    "# open and clean data\n",
    "df = pd.read_csv(r\"C:\\Users\\vince\\Downloads\\Mount_Pleasant_Real_Estate_Data.csv\")\n",
    "df = df.drop(columns = [\"ID\", \"Misc Exterior\", \"Amenities\"]) # drop columns mentioned\n",
    "df = df.dropna() # drop NaN rows\n",
    "\n",
    "# extract y column (price)\n",
    "prices = df[\"List Price\"].values\n",
    "y = [(p.replace('$', '')).replace(',', '') for p in prices] # remove $\n",
    "y = np.array(y) # convert list to array\n",
    "y = y.astype(float)\n",
    "\n",
    "# now drop prices from original dataframe since we have them in column y\n",
    "df = df.drop(columns = [\"List Price\"])\n",
    "\n",
    "# replace strings with numbers\n",
    "df = pd.get_dummies(df, columns = [\"Subdivision\", \"House Style\",])\n",
    "df.replace('No', 0, inplace = True)\n",
    "df.replace('Yes', 1, inplace = True)\n",
    "\n",
    "# turn into array\n",
    "x = df.to_numpy()\n",
    "x = x.astype(float)\n",
    "x = preprocessing.normalize(x)\n",
    "\n",
    "# Split data into training, validation, and test set\n",
    "xtrain, xi, ytrain, yi = train_test_split(x, y, test_size = 0.4, random_state = 69)\n",
    "xvald, xtest, yvald, ytest = train_test_split(xi, yi, test_size = 0.5, random_state = 69)"
   ]
  },
  {
   "cell_type": "markdown",
   "id": "f18dc439",
   "metadata": {},
   "source": [
    "b) Fit the least squares hyperplane to the training set to predict house prices, and evaluate its fit on the validation set."
   ]
  },
  {
   "cell_type": "code",
   "execution_count": 18,
   "id": "99df80f0",
   "metadata": {},
   "outputs": [
    {
     "name": "stdout",
     "output_type": "stream",
     "text": [
      "the absolute error of the OLS model is =  111823.60146752182\n"
     ]
    }
   ],
   "source": [
    "class OrdinaryLeastSquares:\n",
    "        \n",
    "    # fit the model to the data\n",
    "    def fit(self, X, y):\n",
    "        # save the training data\n",
    "        self.data = np.hstack((np.ones([X.shape[0],1]), X))\n",
    "        \n",
    "        # save the training labels\n",
    "        self.outputs = y\n",
    "        \n",
    "        # find the beta values that minimize the sum of squared errors\n",
    "        X = self.data\n",
    "        self.theta = np.linalg.inv(X.T @ X) @ X.T @ y\n",
    "                \n",
    "    # predict the output from input (testing) data\n",
    "    def predict(self, X):\n",
    "        \n",
    "        # append a column of ones at the beginning of X\n",
    "        X = np.hstack((np.ones([X.shape[0],1]), X))\n",
    "        \n",
    "        # return the outputs\n",
    "        return X @ self.theta\n",
    "\n",
    "# perform OLS on training dataset\n",
    "model = OrdinaryLeastSquares()\n",
    "model.fit(xtrain, ytrain)  # fit function \n",
    "OLS_results = model.predict(xvald) # predict function\n",
    "\n",
    "# calculate mean absolute error of prices\n",
    "MAE = mean_absolute_error(yvald, OLS_results)\n",
    "print(\"the absolute error of the OLS model is = \",MAE)"
   ]
  },
  {
   "cell_type": "markdown",
   "id": "930732fe",
   "metadata": {},
   "source": [
    "c) Fit a ridge regression to the training set to predict house prices, and evaluate its fit on the validation set. Repeat this for several different values of $\\lambda$."
   ]
  },
  {
   "cell_type": "code",
   "execution_count": 23,
   "id": "78799010",
   "metadata": {},
   "outputs": [
    {
     "name": "stdout",
     "output_type": "stream",
     "text": [
      "the absolute error of the Ridge Regression model is =  78656.02366062086\n"
     ]
    }
   ],
   "source": [
    "class RidgeRegression:\n",
    "        \n",
    "    # fit the model to the data\n",
    "    def fit(self, X, y, lam):\n",
    "        # save the training data\n",
    "        self.data = np.hstack((np.ones([X.shape[0],1]), X))\n",
    "        \n",
    "        # save the training labels\n",
    "        self.outputs = y\n",
    "        \n",
    "        # find the beta values that minimize the sum of squared errors\n",
    "        X = self.data\n",
    "        self.theta = np.linalg.inv(X.T @ X + lam * np.identity(33)) @ X.T @ y\n",
    "                \n",
    "    # predict the output from input (testing) data\n",
    "    def predict(self, X):\n",
    "        \n",
    "        # append a column of ones at the beginning of X\n",
    "        X = np.hstack((np.ones([X.shape[0],1]), X))\n",
    "        \n",
    "        # return the outputs\n",
    "        return X @ self.theta\n",
    "    \n",
    "# perform Ridge on training dataset\n",
    "model = RidgeRegression()\n",
    "model.fit(xtrain, ytrain, 1e-9)  # fit function \n",
    "RID_results = model.predict(xvald) # predict function\n",
    "\n",
    "# calculate mean absolute error of prices\n",
    "MAE = mean_absolute_error(yvald, RID_results)\n",
    "print(\"the absolute error of the Ridge Regression model is = \", MAE)"
   ]
  },
  {
   "cell_type": "markdown",
   "id": "80ec35da",
   "metadata": {},
   "source": [
    "d) Fit an LBF expansion of your choice to the training set to predict house prices, and evaluate its fit on the validation set. Repeat this for several different values of $\\lambda$\n",
    "\n",
    "Document all experiments and conclude which experiment works best based on an appropriate train/validation/test split. Report your best test-set MAE at the end of your submission."
   ]
  },
  {
   "cell_type": "code",
   "execution_count": 32,
   "id": "59748288",
   "metadata": {},
   "outputs": [
    {
     "data": {
      "text/plain": [
       "Text(0, 0.5, 'MAE')"
      ]
     },
     "execution_count": 32,
     "metadata": {},
     "output_type": "execute_result"
    },
    {
     "data": {
      "image/png": "[encoded data removed]",
      "text/plain": [
       "<Figure size 432x288 with 1 Axes>"
      ]
     },
     "metadata": {
      "needs_background": "light"
     },
     "output_type": "display_data"
    }
   ],
   "source": [
    "def LBF_Bessel(X):\n",
    "    # Ensure that X is a numpy array\n",
    "    X = np.array(X)\n",
    "    max_order = X.shape[1] # max Bessel function order\n",
    "\n",
    "    Xh = np.zeros_like(X, dtype=float)\n",
    "\n",
    "    # Perform linear basis expansion using Bessel functions\n",
    "    for o in range(max_order):\n",
    "        basis_function = jv(o, X)  # Bessel function of order o\n",
    "        Xh += basis_function\n",
    "        \n",
    "    return Xh\n",
    "\n",
    "class RidgeRegression:\n",
    "        \n",
    "    # fit the model to the data\n",
    "    def fit(self, X, y, lam):\n",
    "        # save the training data\n",
    "        self.data = np.hstack((np.ones([X.shape[0],1]), X))\n",
    "        \n",
    "        # save the training labels\n",
    "        self.outputs = y\n",
    "        \n",
    "        # find the beta values that minimize the sum of squared errors\n",
    "        X = self.data\n",
    "        self.theta = np.linalg.inv(X.T @ X + lam * np.identity(33)) @ X.T @ y\n",
    "                \n",
    "    # predict the output from input (testing) data\n",
    "    def predict(self, X):\n",
    "        \n",
    "        # append a column of ones at the beginning of X\n",
    "        X = np.hstack((np.ones([X.shape[0],1]), X))\n",
    "        \n",
    "        # return the outputs\n",
    "        return X @ self.theta\n",
    "    \n",
    "# get transformation\n",
    "X_h = LBF_Bessel(x)\n",
    "\n",
    "# turn into array\n",
    "X_h = X_h.astype(float)\n",
    "X_h = preprocessing.normalize(X_h)\n",
    "\n",
    "# Split data into training, validation, and test set\n",
    "xtrain, xi, ytrain, yi = train_test_split(X_h, y, test_size = 0.4, random_state = 69)\n",
    "xvald, xtest, yvald, ytest = train_test_split(xi, yi, test_size = 0.5, random_state = 69)  \n",
    "\n",
    "mae_errs = []\n",
    "lambs = np.linspace(1e-8,1e-12,100)\n",
    "for l in lambs:\n",
    "    # perform Ridge on training dataset\n",
    "    model = RidgeRegression()\n",
    "    model.fit(xtrain, ytrain, l)  # fit function \n",
    "    results = model.predict(xvald) # predict function\n",
    "\n",
    "    # calculate mean absolute error of prices\n",
    "    MAE = mean_absolute_error(yvald, results)\n",
    "    mae_errs.append(MAE)\n",
    "\n",
    "# plotting some lambda trials\n",
    "plt.plot(lambs,mae_errs, color = 'purple')\n",
    "plt.title(\"Testing MAE For Various Lambda Values\")\n",
    "plt.xlabel(\"lambda\")\n",
    "plt.ylabel(\"MAE\")"
   ]
  },
  {
   "cell_type": "markdown",
   "id": "54503282",
   "metadata": {},
   "source": [
    "From the plot above, we can see that the MAE drops rapidly before flattening off for a bit and then decreasing again slightly around $\\lambda = 0.6e-6$. Somewhere around this $\\lambda$ value will be the best MAE for this model."
   ]
  },
  {
   "cell_type": "code",
   "execution_count": 33,
   "id": "f934a190",
   "metadata": {},
   "outputs": [
    {
     "name": "stdout",
     "output_type": "stream",
     "text": [
      "The MAE at the best lambda is =  78068.76212134167\n"
     ]
    }
   ],
   "source": [
    "# perform Ridge on training dataset\n",
    "model = RidgeRegression()\n",
    "model.fit(xtrain, ytrain, 0.6e-8)  # fit function \n",
    "results = model.predict(xvald) # predict function\n",
    "\n",
    "# calculate mean absolute error of prices\n",
    "MAE = mean_absolute_error(yvald, results)\n",
    "\n",
    "print(\"The MAE at the best lambda is = \", MAE)"
   ]
  }
 ],
 "metadata": {
  "kernelspec": {
   "display_name": "Python 3 (ipykernel)",
   "language": "python",
   "name": "python3"
  },
  "language_info": {
   "codemirror_mode": {
    "name": "ipython",
    "version": 3
   },
   "file_extension": ".py",
   "mimetype": "text/x-python",
   "name": "python",
   "nbconvert_exporter": "python",
   "pygments_lexer": "ipython3",
   "version": "3.9.12"
  }
 },
 "nbformat": 4,
 "nbformat_minor": 5
}
